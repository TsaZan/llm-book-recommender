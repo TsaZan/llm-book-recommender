{
 "cells": [
  {
   "cell_type": "code",
   "id": "initial_id",
   "metadata": {
    "collapsed": true,
    "ExecuteTime": {
     "end_time": "2025-03-04T12:45:07.829508Z",
     "start_time": "2025-03-04T12:45:07.748668Z"
    }
   },
   "source": [
    "import pandas as pd\n",
    "books = pd.read_csv(\"books_cleaned.csv\")"
   ],
   "outputs": [],
   "execution_count": 20
  },
  {
   "metadata": {
    "ExecuteTime": {
     "end_time": "2025-03-04T12:45:07.840519Z",
     "start_time": "2025-03-04T12:45:07.831517Z"
    }
   },
   "cell_type": "code",
   "source": [
    "category_mapping = {'Fiction' : \"Fiction\",\n",
    " 'Juvenile Fiction': \"Children's Fiction\",\n",
    " 'Biography & Autobiography': \"Nonfiction\",\n",
    " 'History': \"Nonfiction\",\n",
    " 'Literary Criticism': \"Nonfiction\",\n",
    " 'Philosophy': \"Nonfiction\",\n",
    " 'Religion': \"Nonfiction\",\n",
    " 'Comics & Graphic Novels': \"Fiction\",\n",
    " 'Drama': \"Fiction\",\n",
    " 'Juvenile Nonfiction': \"Children's Nonfiction\",\n",
    " 'Science': \"Nonfiction\",\n",
    " 'Poetry': \"Fiction\"}\n",
    "\n",
    "books[\"simple_categories\"] = books[\"categories\"].map(category_mapping)"
   ],
   "id": "cd151042de0abe34",
   "outputs": [],
   "execution_count": 21
  },
  {
   "metadata": {
    "ExecuteTime": {
     "end_time": "2025-03-04T12:45:09.519846Z",
     "start_time": "2025-03-04T12:45:07.843036Z"
    }
   },
   "cell_type": "code",
   "source": [
    "from transformers import pipeline\n",
    "fiction_categories = ['Fiction', 'Nonfiction']\n",
    "pipe = pipeline('zero-shot-classification', model = \"facebook/bart-large-mnli\", device=0)\n"
   ],
   "id": "355c25db53ea5822",
   "outputs": [
    {
     "name": "stderr",
     "output_type": "stream",
     "text": [
      "Device set to use cpu\n"
     ]
    }
   ],
   "execution_count": 22
  },
  {
   "metadata": {
    "ExecuteTime": {
     "end_time": "2025-03-04T12:46:02.452995Z",
     "start_time": "2025-03-04T12:46:02.445715Z"
    }
   },
   "cell_type": "code",
   "source": "sequence = books.loc[books['simple_categories'] == \"Fiction\", \"description\"].reset_index(drop=True)[3]",
   "id": "3e8c4a61d37e976",
   "outputs": [],
   "execution_count": 27
  },
  {
   "metadata": {
    "ExecuteTime": {
     "end_time": "2025-03-04T12:46:06.270826Z",
     "start_time": "2025-03-04T12:46:04.613860Z"
    }
   },
   "cell_type": "code",
   "source": "pipe(sequence, fiction_categories)",
   "id": "4d3fb9c9bceced89",
   "outputs": [
    {
     "data": {
      "text/plain": [
       "{'sequence': 'A Few Weeks After Marrying An Attractive Young Widow, Gordon Cloade Is Tragically Killed By A Bomb Blast In The London Blitz. Overnight, The Former Mrs Underhay Finds Herself In Sole Possession Of The Cloade Family Fortune. Shortly Afterwards, Hercule Poirot Receives A Visit From The Dead Man S Sister-In-Law Who Claims She Has Been Warned By Spirits That Mrs Underhay S First Husband Is Still Alive. Poirot Has His Suspicions When He Is Asked To Find A Missing Person Guided Only By The Spirit World. Yet What Mystifies Poirot Most Is The Woman S True Motive For Approaching Him&',\n",
       " 'labels': ['Nonfiction', 'Fiction'],\n",
       " 'scores': [0.6068205237388611, 0.39317941665649414]}"
      ]
     },
     "execution_count": 28,
     "metadata": {},
     "output_type": "execute_result"
    }
   ],
   "execution_count": 28
  },
  {
   "metadata": {
    "ExecuteTime": {
     "end_time": "2025-03-04T12:46:11.879229Z",
     "start_time": "2025-03-04T12:46:08.734805Z"
    }
   },
   "cell_type": "code",
   "source": [
    "import numpy as np\n",
    "max_index = np.argmax(pipe(sequence, fiction_categories)[\"scores\"])\n",
    "max_label = pipe(sequence,fiction_categories)[\"labels\"][max_index]\n",
    "max_label"
   ],
   "id": "21f5ba76357f2fb",
   "outputs": [
    {
     "data": {
      "text/plain": [
       "'Nonfiction'"
      ]
     },
     "execution_count": 29,
     "metadata": {},
     "output_type": "execute_result"
    }
   ],
   "execution_count": 29
  },
  {
   "metadata": {
    "ExecuteTime": {
     "end_time": "2025-03-04T12:47:57.518333Z",
     "start_time": "2025-03-04T12:47:57.513006Z"
    }
   },
   "cell_type": "code",
   "source": [
    "def generate_predictions(sequence, categories):\n",
    "  predictions = pipe(sequence, categories)[\"scores\"]\n",
    "  max_index = np.argmax(predictions)\n",
    "  max_label = pipe(sequence, categories)[\"labels\"][max_index]\n",
    "  return max_label"
   ],
   "id": "83fc5293254545a6",
   "outputs": [],
   "execution_count": 31
  },
  {
   "metadata": {},
   "cell_type": "code",
   "outputs": [],
   "execution_count": null,
   "source": "",
   "id": "38a14a40e6d5e59f"
  }
 ],
 "metadata": {
  "kernelspec": {
   "display_name": "Python 3",
   "language": "python",
   "name": "python3"
  },
  "language_info": {
   "codemirror_mode": {
    "name": "ipython",
    "version": 2
   },
   "file_extension": ".py",
   "mimetype": "text/x-python",
   "name": "python",
   "nbconvert_exporter": "python",
   "pygments_lexer": "ipython2",
   "version": "2.7.6"
  }
 },
 "nbformat": 4,
 "nbformat_minor": 5
}
